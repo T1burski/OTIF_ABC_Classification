{
 "cells": [
  {
   "cell_type": "code",
   "execution_count": 14,
   "id": "bb06721a",
   "metadata": {},
   "outputs": [],
   "source": [
    "#Importing pandas library in order to manage the datasets\n",
    "import pandas as pd"
   ]
  },
  {
   "cell_type": "code",
   "execution_count": 15,
   "id": "fcb1f120",
   "metadata": {},
   "outputs": [],
   "source": [
    "#Reading the three datasets which contain the information regarding the deliveries made\n",
    "df_ord = pd.read_csv('fact_order_lines.csv')\n",
    "df_cus = pd.read_csv('dim_customers.csv')\n",
    "df_pro = pd.read_csv('dim_products.csv')"
   ]
  },
  {
   "cell_type": "code",
   "execution_count": 16,
   "id": "8a075770",
   "metadata": {},
   "outputs": [],
   "source": [
    "#Converting the date columns into date format and renaming them\n",
    "df_ord['scheduled_date'] = pd.to_datetime(df_ord['agreed_delivery_date'])\n",
    "df_ord = df_ord.drop('agreed_delivery_date', axis=1)\n",
    "df_ord['order_creation_date'] = pd.to_datetime(df_ord['order_placement_date'])\n",
    "df_ord = df_ord.drop('order_placement_date', axis=1)\n",
    "df_ord['delivered_date'] = pd.to_datetime(df_ord['actual_delivery_date'])\n",
    "df_ord = df_ord.drop('actual_delivery_date', axis=1)\n",
    "\n",
    "#For now we do not want to worl with the column dropped below. \n",
    "#If necessary, we can reach these results by ourselves\n",
    "df_ord = df_ord.drop('In Full', axis=1)\n",
    "df_ord = df_ord.drop('On Time', axis=1)\n",
    "df_ord = df_ord.drop('On Time In Full', axis=1)\n",
    "\n",
    "#Creating the column that tells the number of days between the schedueled delivery date and the order creation date \n",
    "df_ord['DB_sch_ord'] = (df_ord['scheduled_date'] - df_ord['order_creation_date']).dt.days\n",
    "\n",
    "#Creating the column that tells the number of days between the delivery date and the scheduled delivery date \n",
    "df_ord['DB_del_sch'] = (df_ord['delivered_date'] - df_ord['scheduled_date']).dt.days\n",
    "\n",
    "#Creating the column that tells the difference between the order quantity and the quantity that was actually delivered\n",
    "df_ord['QTY_ord_del'] = df_ord['order_qty'] - df_ord['delivery_qty']"
   ]
  },
  {
   "cell_type": "code",
   "execution_count": 17,
   "id": "bf711107",
   "metadata": {},
   "outputs": [],
   "source": [
    "#Creating the function that makes the classification between groups A, B and C according to the passed %\n",
    "def abc_class(perc):\n",
    "    if perc > 0 and perc <= 80:\n",
    "        return 'A'\n",
    "    elif perc > 80 and perc <= 95:\n",
    "        return 'B'\n",
    "    else:\n",
    "        return 'C'"
   ]
  },
  {
   "cell_type": "code",
   "execution_count": 18,
   "id": "b223e2a2",
   "metadata": {},
   "outputs": [],
   "source": [
    "#Creating a dataframe of all products and their respective total quantity delivered\n",
    "#Throughout the orders history period provided.\n",
    "df_prod_abc = df_ord.groupby('product_id').agg({'delivery_qty':'sum'})\n",
    "\n",
    "#Ordering the data according to the descending order of the total quantity delivered\n",
    "df_prod_abc = df_prod_abc.sort_values(by=['delivery_qty'], ascending=False)\n",
    "\n",
    "#Doing the same process but for the customers instead of the products.\n",
    "df_cust_abc = df_ord.groupby('customer_id').agg({'delivery_qty':'sum'})\n",
    "df_cust_abc = df_cust_abc.sort_values(by=['delivery_qty'], ascending=False)"
   ]
  },
  {
   "cell_type": "code",
   "execution_count": 6,
   "id": "08bc8640",
   "metadata": {},
   "outputs": [],
   "source": [
    "df_prod_abc['delivery_qty_cumsum'] = df_prod_abc['delivery_qty'].cumsum()\n",
    "df_prod_abc['delivery_qty_total'] = df_prod_abc['delivery_qty'].sum()\n",
    "df_prod_abc['delivery_qty_total_run_perc'] = (df_prod_abc['delivery_qty_cumsum'] / df_prod_abc['delivery_qty_total']) * 100\n",
    "df_prod_abc['abc_prod'] = df_prod_abc['delivery_qty_total_run_perc'].apply(abc_class)"
   ]
  },
  {
   "cell_type": "code",
   "execution_count": 7,
   "id": "4057f0b8",
   "metadata": {},
   "outputs": [],
   "source": [
    "df_cust_abc['delivery_qty_cumsum'] = df_cust_abc['delivery_qty'].cumsum()\n",
    "df_cust_abc['delivery_qty_total'] = df_cust_abc['delivery_qty'].sum()\n",
    "df_cust_abc['delivery_qty_total_run_perc'] = (df_cust_abc['delivery_qty_cumsum'] / df_cust_abc['delivery_qty_total']) * 100\n",
    "df_cust_abc['abc_cust'] = df_cust_abc['delivery_qty_total_run_perc'].apply(abc_class)"
   ]
  },
  {
   "cell_type": "code",
   "execution_count": 8,
   "id": "2c5dc0d2",
   "metadata": {},
   "outputs": [],
   "source": [
    "#Reseting the indexes of the resulting datasets containing the ABC classifications in order to\n",
    "#make the merges previously.\n",
    "df_prod_abc = df_prod_abc.reset_index()\n",
    "df_cust_abc = df_cust_abc.reset_index()"
   ]
  },
  {
   "cell_type": "code",
   "execution_count": 9,
   "id": "4cb49218",
   "metadata": {},
   "outputs": [],
   "source": [
    "#Merging all the resulting datasets into the main one, df_ord, adding to it the info regarding\n",
    "#the products and customers ABC classification as well as their registration data (name and etc...) \n",
    "df_ord = pd.merge(df_ord, df_prod_abc[['product_id', 'abc_prod']], left_on='product_id', right_on='product_id', how='left')\n",
    "df_ord = pd.merge(df_ord, df_cust_abc[['customer_id', 'abc_cust']], left_on='customer_id', right_on='customer_id', how='left')\n",
    "\n",
    "df_ord = pd.merge(df_ord, df_pro[['product_id', 'product_name', 'category']], left_on='product_id', right_on='product_id', how='left')\n",
    "df_ord = pd.merge(df_ord, df_cus[['customer_id', 'customer_name', 'city']], left_on='customer_id', right_on='customer_id', how='left')"
   ]
  },
  {
   "cell_type": "code",
   "execution_count": 11,
   "id": "3bc7b945",
   "metadata": {},
   "outputs": [],
   "source": [
    "#Creating the functions to check if and order was in time or/and in full\n",
    "\n",
    "def fun_in_full(qty_req, qty_deli):\n",
    "    if qty_deli < qty_req:\n",
    "        return 0\n",
    "    else:\n",
    "        return 1\n",
    "\n",
    "def fun_on_time(date_sch, date_del):\n",
    "    if date_del > date_sch:\n",
    "        return 0\n",
    "    else:\n",
    "        return 1\n",
    "\n",
    "df_ord['in_full'] = df_ord.apply(lambda x: fun_in_full(x.order_qty, x.delivery_qty), axis=1)\n",
    "df_ord['on_time'] = df_ord.apply(lambda x: fun_on_time(x.scheduled_date, x.delivered_date), axis=1)"
   ]
  },
  {
   "cell_type": "code",
   "execution_count": 13,
   "id": "fef52eec",
   "metadata": {},
   "outputs": [],
   "source": [
    "df_ord.to_csv('finaldataset.csv')\n",
    "df_prod_abc.to_csv('abc_prod.csv')\n",
    "df_cust_abc.to_csv('abc_cust.csv')"
   ]
  }
 ],
 "metadata": {
  "kernelspec": {
   "display_name": "Python 3 (ipykernel)",
   "language": "python",
   "name": "python3"
  },
  "language_info": {
   "codemirror_mode": {
    "name": "ipython",
    "version": 3
   },
   "file_extension": ".py",
   "mimetype": "text/x-python",
   "name": "python",
   "nbconvert_exporter": "python",
   "pygments_lexer": "ipython3",
   "version": "3.9.7"
  }
 },
 "nbformat": 4,
 "nbformat_minor": 5
}
